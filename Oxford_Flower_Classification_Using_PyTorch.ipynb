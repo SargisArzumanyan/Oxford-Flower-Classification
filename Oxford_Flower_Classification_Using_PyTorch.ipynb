{
  "cells": [
    {
      "cell_type": "code",
      "execution_count": null,
      "metadata": {
        "id": "kADAWWlxkyJT"
      },
      "outputs": [],
      "source": [
        "import pandas as pd\n",
        "import numpy as np\n",
        "import matplotlib.pyplot as plt\n",
        "import torch\n",
        "import torch.nn as nn\n",
        "import torch.optim as optim\n",
        "import torchvision\n",
        "import scipy as sp"
      ]
    },
    {
      "cell_type": "markdown",
      "metadata": {
        "id": "kplC9EIHpdeQ"
      },
      "source": [
        "# Loading and splitting the dataset"
      ]
    },
    {
      "cell_type": "code",
      "execution_count": null,
      "metadata": {
        "id": "FtUwo3ZsmJxk"
      },
      "outputs": [],
      "source": [
        "img_size = 224\n",
        "transform = torchvision.transforms.Compose([torchvision.transforms.ToTensor(), torchvision.transforms.Resize((img_size, img_size))])\n",
        "\n",
        "trainset = torchvision.datasets.Flowers102(root='./data', split='train', download=True, transform=transform)\n",
        "valset = torchvision.datasets.Flowers102(root='./data', split='val', download=True, transform=transform)\n",
        "testset = torchvision.datasets.Flowers102(root='./data', split='test', download=True, transform=transform)"
      ]
    },
    {
      "cell_type": "code",
      "execution_count": null,
      "metadata": {
        "colab": {
          "base_uri": "https://localhost:8080/"
        },
        "id": "0nGfCEKiMwAD",
        "outputId": "2d08ccd4-14aa-45fc-b166-6f877a3b8416"
      },
      "outputs": [
        {
          "output_type": "execute_result",
          "data": {
            "text/plain": [
              "Dataset Flowers102\n",
              "    Number of datapoints: 1020\n",
              "    Root location: ./data\n",
              "    split=train\n",
              "    StandardTransform\n",
              "Transform: Compose(\n",
              "               ToTensor()\n",
              "               Resize(size=(224, 224), interpolation=bilinear, max_size=None, antialias=True)\n",
              "           )"
            ]
          },
          "metadata": {},
          "execution_count": 3
        }
      ],
      "source": [
        "trainset"
      ]
    },
    {
      "cell_type": "code",
      "execution_count": null,
      "metadata": {
        "colab": {
          "base_uri": "https://localhost:8080/"
        },
        "id": "oOgAaeKrXszW",
        "outputId": "a5f5ccf4-01f5-49be-9166-034d3fee7074"
      },
      "outputs": [
        {
          "output_type": "execute_result",
          "data": {
            "text/plain": [
              "Dataset Flowers102\n",
              "    Number of datapoints: 1020\n",
              "    Root location: ./data\n",
              "    split=val\n",
              "    StandardTransform\n",
              "Transform: Compose(\n",
              "               ToTensor()\n",
              "               Resize(size=(224, 224), interpolation=bilinear, max_size=None, antialias=True)\n",
              "           )"
            ]
          },
          "metadata": {},
          "execution_count": 4
        }
      ],
      "source": [
        "valset"
      ]
    },
    {
      "cell_type": "code",
      "execution_count": null,
      "metadata": {
        "colab": {
          "base_uri": "https://localhost:8080/"
        },
        "id": "ZiKgsENyND0T",
        "outputId": "323c0ba6-d41d-4995-f5fd-ff6670ee6cfe"
      },
      "outputs": [
        {
          "output_type": "execute_result",
          "data": {
            "text/plain": [
              "Dataset Flowers102\n",
              "    Number of datapoints: 6149\n",
              "    Root location: ./data\n",
              "    split=test\n",
              "    StandardTransform\n",
              "Transform: Compose(\n",
              "               ToTensor()\n",
              "               Resize(size=(224, 224), interpolation=bilinear, max_size=None, antialias=True)\n",
              "           )"
            ]
          },
          "metadata": {},
          "execution_count": 5
        }
      ],
      "source": [
        "testset"
      ]
    },
    {
      "cell_type": "markdown",
      "metadata": {
        "id": "VVKBGyV2qD25"
      },
      "source": [
        "# Data preparation"
      ]
    },
    {
      "cell_type": "code",
      "execution_count": null,
      "metadata": {
        "id": "bXMUUrTOuF81"
      },
      "outputs": [],
      "source": [
        "dev = torch.device(\"cuda\") if torch.cuda.is_available() else torch.device(\"cpu\")\n"
      ]
    },
    {
      "cell_type": "code",
      "execution_count": null,
      "metadata": {
        "id": "CqrPwvqmSXp-"
      },
      "outputs": [],
      "source": [
        "batch_size = 32\n",
        "trainloader = torch.utils.data.DataLoader(trainset, batch_size=batch_size, shuffle=True)\n",
        "valloader = torch.utils.data.DataLoader(valset, batch_size=batch_size, shuffle=True)\n",
        "testloader = torch.utils.data.DataLoader(testset, batch_size=batch_size, shuffle=True)"
      ]
    },
    {
      "cell_type": "markdown",
      "metadata": {
        "id": "_c2tNbmxqd_y"
      },
      "source": [
        "# Building the model"
      ]
    },
    {
      "cell_type": "code",
      "execution_count": 15,
      "metadata": {
        "id": "mIxg1USttu9f"
      },
      "outputs": [],
      "source": [
        "class FlowerModel(nn.Module):\n",
        "    def __init__(self):\n",
        "        super().__init__()\n",
        "        self.conv0 = nn.Conv2d(3, 64, kernel_size=(3,3), stride=1, padding=1)\n",
        "        self.bn0 = nn.BatchNorm2d(64)\n",
        "        self.act0 = nn.ReLU()\n",
        "        # self.drop0 = nn.Dropout(0.1)\n",
        "\n",
        "        self.conv1 = nn.Conv2d(64, 64, kernel_size=(3,3), stride=1, padding=1)\n",
        "        self.bn1 = nn.BatchNorm2d(64)\n",
        "        self.act1 = nn.ReLU()\n",
        "        # self.drop1 = nn.Dropout(0.1)\n",
        "\n",
        "        self.conv2 = nn.Conv2d(64, 128, kernel_size=(3,3), stride=1, padding=1)\n",
        "        self.bn2 = nn.BatchNorm2d(128)\n",
        "        self.act2 = nn.ReLU()\n",
        "        self.pool2 = nn.MaxPool2d(kernel_size=(2, 2))\n",
        "\n",
        "        # self.flat = nn.Flatten()\n",
        "        # self.avg = nn.AvgPool2d(1)\n",
        "        self.avgpool = nn.AdaptiveAvgPool2d((1, 1))  # Adaptive average pooling to (1, 1)\n",
        "\n",
        "\n",
        "        self.fc3 = nn.Linear(128, 512)\n",
        "        self.act3 = nn.ReLU()\n",
        "        # self.drop3 = nn.Dropout(0.25)\n",
        "\n",
        "        self.fc4 = nn.Linear(512, 102)\n",
        "\n",
        "    def forward(self, x):\n",
        "        # input 3x224x224, output 64x224x224\n",
        "        x = self.act0(self.bn0(self.conv0(x)))\n",
        "        # x = self.drop0(x)\n",
        "        # input 64x224x224, output 64x224x224\n",
        "        x = self.act1(self.bn1(self.conv1(x)))\n",
        "        # x = self.drop1(x)\n",
        "        # input 64x224x224, output 128x224x224\n",
        "        x = self.act2(self.bn2(self.conv2(x)))\n",
        "        # input 128x224x224, output 128x112x112\n",
        "        x = self.pool2(x)\n",
        "        # input 128x112x112, output\n",
        "        # x = self.flat(x)\n",
        "        # x = self.avg(x)\n",
        "        x = self.avgpool(x)\n",
        "        x = x.view(x.size(0), -1)\n",
        "        # input , output 512\n",
        "        x = self.act3(self.fc3(x))\n",
        "        # x = self.drop3(x)\n",
        "        # input 512, output 102\n",
        "        x = self.fc4(x)\n",
        "        return x\n"
      ]
    },
    {
      "cell_type": "code",
      "execution_count": null,
      "metadata": {
        "id": "49sUJJEryuOw"
      },
      "outputs": [],
      "source": [
        "model = FlowerModel()\n",
        "loss_fn = nn.CrossEntropyLoss()\n",
        "optimizer = optim.Adam(model.parameters(), lr=0.001)\n",
        "scheduler = optim.lr_scheduler.StepLR(optimizer, step_size=10, gamma=0.1)"
      ]
    },
    {
      "cell_type": "code",
      "execution_count": null,
      "metadata": {
        "id": "VHKOSOn0_Oq5"
      },
      "outputs": [],
      "source": [
        "early_stopping_patience = 10\n",
        "best_val_accuracy = float(0)\n",
        "patience_counter = 0"
      ]
    },
    {
      "cell_type": "code",
      "execution_count": null,
      "metadata": {
        "colab": {
          "base_uri": "https://localhost:8080/"
        },
        "id": "tvQKIyRnd6NU",
        "outputId": "1d217b70-bef5-407a-9a17-96aaf9f4c100"
      },
      "outputs": [
        {
          "output_type": "execute_result",
          "data": {
            "text/plain": [
              "FlowerModel(\n",
              "  (conv0): Conv2d(3, 64, kernel_size=(3, 3), stride=(1, 1), padding=(1, 1))\n",
              "  (bn0): BatchNorm2d(64, eps=1e-05, momentum=0.1, affine=True, track_running_stats=True)\n",
              "  (act0): ReLU()\n",
              "  (conv1): Conv2d(64, 64, kernel_size=(3, 3), stride=(1, 1), padding=(1, 1))\n",
              "  (bn1): BatchNorm2d(64, eps=1e-05, momentum=0.1, affine=True, track_running_stats=True)\n",
              "  (act1): ReLU()\n",
              "  (conv2): Conv2d(64, 128, kernel_size=(3, 3), stride=(1, 1), padding=(1, 1))\n",
              "  (bn2): BatchNorm2d(128, eps=1e-05, momentum=0.1, affine=True, track_running_stats=True)\n",
              "  (act2): ReLU()\n",
              "  (pool2): MaxPool2d(kernel_size=(2, 2), stride=(2, 2), padding=0, dilation=1, ceil_mode=False)\n",
              "  (avgpool): AdaptiveAvgPool2d(output_size=(1, 1))\n",
              "  (fc3): Linear(in_features=128, out_features=512, bias=True)\n",
              "  (act3): ReLU()\n",
              "  (fc4): Linear(in_features=512, out_features=102, bias=True)\n",
              ")"
            ]
          },
          "metadata": {},
          "execution_count": 11
        }
      ],
      "source": [
        "model.to(dev)"
      ]
    },
    {
      "cell_type": "code",
      "execution_count": null,
      "metadata": {
        "colab": {
          "base_uri": "https://localhost:8080/"
        },
        "id": "1jP9tUOpdV1D",
        "outputId": "d2b9153b-1e1f-46aa-ead5-6623872fc79a"
      },
      "outputs": [
        {
          "output_type": "stream",
          "name": "stdout",
          "text": [
            "----------------------------------------------------------------\n",
            "        Layer (type)               Output Shape         Param #\n",
            "================================================================\n",
            "            Conv2d-1         [-1, 64, 224, 224]           1,792\n",
            "       BatchNorm2d-2         [-1, 64, 224, 224]             128\n",
            "              ReLU-3         [-1, 64, 224, 224]               0\n",
            "            Conv2d-4         [-1, 64, 224, 224]          36,928\n",
            "       BatchNorm2d-5         [-1, 64, 224, 224]             128\n",
            "              ReLU-6         [-1, 64, 224, 224]               0\n",
            "            Conv2d-7        [-1, 128, 224, 224]          73,856\n",
            "       BatchNorm2d-8        [-1, 128, 224, 224]             256\n",
            "              ReLU-9        [-1, 128, 224, 224]               0\n",
            "        MaxPool2d-10        [-1, 128, 112, 112]               0\n",
            "AdaptiveAvgPool2d-11            [-1, 128, 1, 1]               0\n",
            "           Linear-12                  [-1, 512]          66,048\n",
            "             ReLU-13                  [-1, 512]               0\n",
            "           Linear-14                  [-1, 102]          52,326\n",
            "================================================================\n",
            "Total params: 231,462\n",
            "Trainable params: 231,462\n",
            "Non-trainable params: 0\n",
            "----------------------------------------------------------------\n",
            "Input size (MB): 0.57\n",
            "Forward/backward pass size (MB): 306.26\n",
            "Params size (MB): 0.88\n",
            "Estimated Total Size (MB): 307.72\n",
            "----------------------------------------------------------------\n"
          ]
        }
      ],
      "source": [
        "from torchsummary import summary\n",
        "\n",
        "summary(model, (3, 224, 224))\n"
      ]
    },
    {
      "cell_type": "markdown",
      "metadata": {
        "id": "nfCoIBzBxvTm"
      },
      "source": [
        "# Training and evaluating it"
      ]
    },
    {
      "cell_type": "code",
      "execution_count": 13,
      "metadata": {
        "colab": {
          "base_uri": "https://localhost:8080/"
        },
        "id": "oOtQVjP8xyHT",
        "outputId": "df9dd661-c89f-427d-a6ed-13a95dc68edc"
      },
      "outputs": [
        {
          "output_type": "stream",
          "name": "stdout",
          "text": [
            "Epoch 0: model accuracy 7.55%\n",
            "Epoch 1: model accuracy 10.49%\n",
            "Epoch 2: model accuracy 12.55%\n",
            "Epoch 3: model accuracy 16.47%\n",
            "Epoch 4: model accuracy 16.47%\n",
            "Epoch 5: model accuracy 19.12%\n",
            "Epoch 6: model accuracy 19.51%\n",
            "Epoch 7: model accuracy 20.69%\n",
            "Epoch 8: model accuracy 21.37%\n",
            "Epoch 9: model accuracy 21.57%\n",
            "Epoch 10: model accuracy 24.41%\n",
            "Epoch 11: model accuracy 24.31%\n",
            "Epoch 12: model accuracy 23.53%\n",
            "Epoch 13: model accuracy 23.92%\n",
            "Epoch 14: model accuracy 25.39%\n",
            "Epoch 15: model accuracy 25.10%\n",
            "Epoch 16: model accuracy 25.00%\n",
            "Epoch 17: model accuracy 25.00%\n",
            "Epoch 18: model accuracy 25.29%\n",
            "Epoch 19: model accuracy 25.39%\n",
            "Epoch 20: model accuracy 25.10%\n",
            "Epoch 21: model accuracy 25.49%\n",
            "Epoch 22: model accuracy 25.78%\n",
            "Epoch 23: model accuracy 25.10%\n",
            "Epoch 24: model accuracy 25.59%\n",
            "Epoch 25: model accuracy 25.49%\n",
            "Epoch 26: model accuracy 25.00%\n",
            "Epoch 27: model accuracy 25.29%\n",
            "Epoch 28: model accuracy 25.59%\n",
            "Epoch 29: model accuracy 26.47%\n",
            "Epoch 30: model accuracy 25.20%\n",
            "Epoch 31: model accuracy 25.20%\n",
            "Epoch 32: model accuracy 26.27%\n",
            "Epoch 33: model accuracy 24.61%\n",
            "Epoch 34: model accuracy 26.08%\n",
            "Epoch 35: model accuracy 25.59%\n",
            "Epoch 36: model accuracy 25.10%\n",
            "Epoch 37: model accuracy 24.51%\n",
            "Epoch 38: model accuracy 26.08%\n",
            "Epoch 39: model accuracy 25.88%\n",
            "Early stopping triggered\n"
          ]
        },
        {
          "output_type": "stream",
          "name": "stderr",
          "text": [
            "/usr/local/lib/python3.10/dist-packages/torch/nn/modules/module.py:1898: UserWarning: Positional args are being deprecated, use kwargs instead. Refer to https://pytorch.org/docs/master/generated/torch.nn.Module.html#torch.nn.Module.state_dict for details.\n",
            "  warnings.warn(\n"
          ]
        }
      ],
      "source": [
        "n_epochs = 100\n",
        "for epoch in range(n_epochs):\n",
        "    for inputs, labels in trainloader:\n",
        "        inputs = inputs.to(dev)\n",
        "        labels = labels.to(dev)\n",
        "        # forward, backward, and then weight update\n",
        "        y_pred = model(inputs)\n",
        "        loss = loss_fn(y_pred, labels)\n",
        "        optimizer.zero_grad()\n",
        "        loss.backward()\n",
        "        optimizer.step()\n",
        "    scheduler.step()\n",
        "\n",
        "    acc = 0\n",
        "    count = 0\n",
        "    for inputs, labels in valloader:\n",
        "        inputs = inputs.to(dev)\n",
        "        labels = labels.to(dev)\n",
        "        y_pred = model(inputs)\n",
        "        acc += (torch.argmax(y_pred, 1) == labels).float().sum()\n",
        "        count += len(labels)\n",
        "    acc /= count\n",
        "    print(\"Epoch %d: model accuracy %.2f%%\" % (epoch, acc*100))\n",
        "\n",
        "    if acc > best_val_accuracy:\n",
        "        best_val_accuracy = acc\n",
        "        patience_counter = 0\n",
        "        # Save the best model\n",
        "        torch.save(model.state_dict(), 'best_model.pth')\n",
        "    else:\n",
        "        patience_counter += 1\n",
        "        if patience_counter >= early_stopping_patience:\n",
        "            print(\"Early stopping triggered\")\n",
        "            break\n",
        "\n",
        "model.load_state_dict(torch.load('best_model.pth'))\n",
        "torch.save(model.state_dict(torch.load('best_model.pth')), \"flowermodel.pth\")"
      ]
    },
    {
      "cell_type": "code",
      "execution_count": 14,
      "metadata": {
        "colab": {
          "base_uri": "https://localhost:8080/"
        },
        "id": "TZ84T81A2l7W",
        "outputId": "c56d22dd-ebd5-4193-a802-3f8ebcb472e8"
      },
      "outputs": [
        {
          "output_type": "stream",
          "name": "stdout",
          "text": [
            "model accuracy 21.76%\n"
          ]
        }
      ],
      "source": [
        "acc = 0\n",
        "count = 0\n",
        "for inputs, labels in testloader:\n",
        "    inputs = inputs.to(dev)\n",
        "    labels = labels.to(dev)\n",
        "    y_pred = model(inputs)\n",
        "    acc += (torch.argmax(y_pred, 1) == labels).float().sum()\n",
        "    count += len(labels)\n",
        "acc /= count\n",
        "print(\"model accuracy %.2f%%\" % (acc*100))"
      ]
    },
    {
      "cell_type": "code",
      "execution_count": null,
      "metadata": {
        "id": "7PmjCiTd8Reu"
      },
      "outputs": [],
      "source": [
        "# lr      test score    trained more  dropout 0.75  dropout 0.25   best with dropout     without dropout\n",
        "\n",
        "# 0.001   15.4%         15.16%        10.49%        17.53%         20.15%                21.76%\n",
        "# 0.01    6.47%\n",
        "# 0.0001  6.98%\n",
        "# 0.0006  14.15%"
      ]
    },
    {
      "cell_type": "code",
      "execution_count": null,
      "metadata": {
        "id": "bo5GJVKe9lIb"
      },
      "outputs": [],
      "source": []
    }
  ],
  "metadata": {
    "accelerator": "GPU",
    "colab": {
      "gpuType": "T4",
      "provenance": []
    },
    "kernelspec": {
      "display_name": "Python 3",
      "name": "python3"
    },
    "language_info": {
      "name": "python"
    }
  },
  "nbformat": 4,
  "nbformat_minor": 0
}